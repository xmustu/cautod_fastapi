{
 "cells": [
  {
   "cell_type": "code",
   "execution_count": null,
   "metadata": {},
   "outputs": [],
   "source": [
    "with open('1.txt', encoding='utf-8') as f:\n",
    "    while True:\n",
    "        ch = f.read(1)      # 每次 1 个字符\n",
    "        if not ch:          # 读到文件末尾\n",
    "            break\n",
    "        print(ch, end='')   # 这里只是示例：打印到终端"
   ]
  },
  {
   "cell_type": "code",
   "execution_count": 9,
   "metadata": {},
   "outputs": [
    {
     "name": "stdout",
     "output_type": "stream",
     "text": [
      "1. 摆线齿轮设计 2. CAD建模步骤 3. 参数化设计 4. 齿轮齿形生成 5. 文件命名规范 6. .py文件生成 7. .step文件导出 8. 几何形状优化 9. 摆线曲线计算 10. 齿轮参数调整 好的，我将为你生成一个摆线齿轮的 CadQuery 代码，并将其保存为指定的文件名。以下是代码： ```python import cadquery as cq import math def cycloid_gear( module: float, teeth: int, thickness: float, pressure_angle: float = 20.0 ) -> cq.Solid: \"\"\" 生成摆线齿轮 :param module: 齿轮模数 :param teeth: 齿轮齿数 :param thickness: 齿轮厚度 :param pressure_angle: 压力角，默认为20度 :return: 摆线齿轮的CadQuery模型 \"\"\" # 计算齿轮的基本参数 pitch_diameter = module * teeth addendum = module dedendum = 1.25 * module outer_diameter = pitch_diameter + 2 * addendum root_diameter = pitch_diameter - 2 * dedendum # 生成摆线齿轮的轮廓 gear = ( cq.Workplane(\"XY\") .circle(outer_diameter / 2) .circle(root_diameter / 2) .extrude(thickness) ) return gear # 生成摆线齿轮 gear = cycloid_gear(module=2, teeth=20, thickness=10) # 导出为STEP文件 gear.export(\"C:\\\\Users\\\\dell\\\\Projects\\\\cadquery_test\\\\cadquery_test\\\\mcp\\\\mcp_out\\\\1_b0734829-6d9e-43e7-950f-b717c22ed07e_145_1754619240_619.step\") ``` 接下来，我将调用工具来保存并执行这段代码。看来代码执行失败了。我需要检查一下代码是否有问题，并重新生成正确的代码。以下是我重新生成的代码： ```python import cadquery as cq import math def cycloid_gear( module: float, teeth: int, thickness: float, pressure_angle: float = 20.0 ) -> cq.Solid: \"\"\" 生成摆线齿轮 :param module: 齿轮模数 :param teeth: 齿轮齿数 :param thickness: 齿轮厚度 :param pressure_angle: 压力角，默认为20度 :return: 摆线齿轮的CadQuery模型 \"\"\" # 计算齿轮的基本参数 pitch_diameter = module * teeth addendum = module dedendum = 1.25 * module outer_diameter = pitch_diameter + 2 * addendum root_diameter = pitch_diameter - 2 * dedendum # 生成摆线齿轮的轮廓 gear = ( cq.Workplane(\"XY\") .circle(outer_diameter / 2) .circle(root_diameter / 2) .extrude(thickness) ) return gear # 生成摆线齿轮 gear = cycloid_gear(module=2, teeth=20, thickness=10) # 导出为STEP文件 gear.export(\"C:\\\\Users\\\\dell\\\\Projects\\\\cadquery_test\\\\cadquery_test\\\\mcp\\\\mcp_out\\\\1_b0734829-6d9e-43e7-950f-b717c22ed07e_145_1754619240_619.step\") ``` 我将再次尝试执行这段代码。看来代码执行失败了。可能是由于某些依赖或环境问题导致的。我们可以尝试简化代码，并确保路径正确。以下是简化后的代码： ```python import cadquery as cq # 生成一个简单的齿轮模型 gear = ( cq.Workplane(\"XY\") .circle(10) # 外径 .circle(8) # 内径 .extrude(5) # 厚度 ) # 导出为STEP文件 gear.export(\"C:\\\\Users\\\\dell\\\\Projects\\\\cadquery_test\\\\cadquery_test\\\\mcp\\\\mcp_out\\\\1_b0734829-6d9e-43e7-950f-b717c22ed07e_145_1754619240_619.step\") ``` 请再次尝试执行这段代码。如果仍然失败，请检查以下几点： 1. 确保 `cadquery` 已正确安装。 2. 确保路径 `C:\\\\Users\\\\dell\\\\Projects\\\\cadquery_test\\\\cadquery_test\\\\mcp\\\\mcp_out` 存在且可写。 3. 检查是否有其他环境或依赖问题。 如果需要进一步调试，请提供具体的错误信息。\n"
     ]
    }
   ],
   "source": [
    "full_answer = \"\"\n",
    "FILE_PATH = r\"C:\\Users\\dell\\Projects\\CAutoD\\cautod_fastapi\\test_f\\test_example.txt\"\n",
    "with open(FILE_PATH, \"rb\") as f:\n",
    "    full_answer = f.read().decode(\"utf-8\")\n",
    "print(full_answer)"
   ]
  },
  {
   "cell_type": "code",
   "execution_count": 11,
   "metadata": {},
   "outputs": [],
   "source": [
    "import subprocess\n",
    "import sys\n",
    "import os"
   ]
  },
  {
   "cell_type": "code",
   "execution_count": 4,
   "metadata": {},
   "outputs": [],
   "source": [
    "process = subprocess.Popen(\n",
    "            [r\"C:\\Users\\dell\\anaconda3\\envs\\d2l\\python.exe\", r\"C:\\Users\\dell\\Projects\\CAutoD\\cautod_fastapi\\test_subprocess.py\"],  # exe_server.py 是 MCP 服务的入口文件\n",
    "\n",
    "            stdout=subprocess.PIPE,\n",
    "            stderr=subprocess.PIPE\n",
    "        )"
   ]
  },
  {
   "cell_type": "code",
   "execution_count": null,
   "metadata": {},
   "outputs": [],
   "source": [
    "with subprocess.Popen(\n",
    "    [r\"C:\\Users\\dell\\anaconda3\\envs\\cad\\python.exe\", r\"c:\\Users\\dell\\Projects\\cadquery_test\\cadquery_test\\mcp\\exe_server.py\"],  # 示例命令\n",
    "    stdout=subprocess.PIPE,\n",
    "    stderr=subprocess.PIPE,\n",
    "    text=True  # 转为字符串\n",
    ") as proc:\n",
    "    # 读取标准输出（字符串形式）\n",
    "    stdout = proc.stdout.read()\n",
    "    # 读取标准错误（字符串形式）\n",
    "    stderr = proc.stderr.read()\n",
    "    \n",
    "    print(\"标准输出:\", stdout)\n",
    "    print(\"标准错误:\", stderr)"
   ]
  },
  {
   "cell_type": "code",
   "execution_count": 13,
   "metadata": {},
   "outputs": [
    {
     "name": "stdout",
     "output_type": "stream",
     "text": [
      "标准输出: \n",
      "标准错误: Traceback (most recent call last):\n",
      "  File \"C:\\Users\\dell\\Projects\\CAutoD\\wenjian\\sldwks.py\", line 3, in <module>\n",
      "    import matplotlib.pyplot as plt\n",
      "  File \"C:\\Users\\dell\\anaconda3\\envs\\sld\\lib\\site-packages\\matplotlib\\__init__.py\", line 1273, in <module>\n",
      "    rcParams['backend'] = os.environ.get('MPLBACKEND')\n",
      "  File \"C:\\Users\\dell\\anaconda3\\envs\\sld\\lib\\site-packages\\matplotlib\\__init__.py\", line 741, in __setitem__\n",
      "    raise ValueError(f\"Key {key}: {ve}\") from None\n",
      "ValueError: Key backend: 'module://matplotlib_inline.backend_inline' is not a valid value for backend; supported values are ['gtk3agg', 'gtk3cairo', 'gtk4agg', 'gtk4cairo', 'macosx', 'nbagg', 'notebook', 'qtagg', 'qtcairo', 'qt5agg', 'qt5cairo', 'tkagg', 'tkcairo', 'webagg', 'wx', 'wxagg', 'wxcairo', 'agg', 'cairo', 'pdf', 'pgf', 'ps', 'svg', 'template']\n",
      "\n"
     ]
    }
   ],
   "source": [
    "with subprocess.Popen(\n",
    "    [r\"C:\\Users\\dell\\anaconda3\\envs\\sld\\python.exe\", r\"C:\\Users\\dell\\Projects\\CAutoD\\wenjian\\sldwks.py\"],  # 示例命令\n",
    "    stdout=subprocess.PIPE,\n",
    "    stderr=subprocess.PIPE,\n",
    "    text=True  # 转为字符串\n",
    ") as proc:\n",
    "    # 读取标准输出（字符串形式）\n",
    "    stdout = proc.stdout.read()\n",
    "    # 读取标准错误（字符串形式）\n",
    "    stderr = proc.stderr.read()\n",
    "    \n",
    "    print(\"标准输出:\", stdout)\n",
    "    print(\"标准错误:\", stderr)"
   ]
  },
  {
   "cell_type": "code",
   "execution_count": 1,
   "metadata": {},
   "outputs": [],
   "source": [
    "import asyncio\n",
    "import subprocess\n",
    "import threading\n",
    "import queue"
   ]
  },
  {
   "cell_type": "code",
   "execution_count": 2,
   "metadata": {},
   "outputs": [
    {
     "name": "stdout",
     "output_type": "stream",
     "text": [
      "启动程序了吗\n",
      "[stdout] [01/60] Hello, this is message #1\n",
      "[stdout] [02/60] Hello, this is message #2\n",
      "[stdout] [03/60] Hello, this is message #3\n",
      "[stdout] [04/60] Hello, this is message #4\n",
      "[stdout] [05/60] Hello, this is message #5\n",
      "[stdout] [06/60] Hello, this is message #6\n",
      "[stdout] [07/60] Hello, this is message #7\n",
      "[stdout] [08/60] Hello, this is message #8\n",
      "[stdout] [09/60] Hello, this is message #9\n",
      "[stdout] [10/60] Hello, this is message #10\n",
      "[stdout] [11/60] Hello, this is message #11\n",
      "[stdout] [12/60] Hello, this is message #12\n",
      "[stdout] [13/60] Hello, this is message #13\n",
      "[stdout] [14/60] Hello, this is message #14\n",
      "[stdout] [15/60] Hello, this is message #15\n",
      "[stdout] [16/60] Hello, this is message #16\n",
      "[stdout] [17/60] Hello, this is message #17\n",
      "[stdout] [18/60] Hello, this is message #18\n",
      "[stdout] [19/60] Hello, this is message #19\n",
      "[stdout] [20/60] Hello, this is message #20\n",
      "[stdout] [21/60] Hello, this is message #21\n",
      "[stdout] [22/60] Hello, this is message #22\n",
      "[stdout] [23/60] Hello, this is message #23\n",
      "[stdout] [24/60] Hello, this is message #24\n",
      "[stdout] [25/60] Hello, this is message #25\n",
      "[stdout] [26/60] Hello, this is message #26\n",
      "[stdout] [27/60] Hello, this is message #27\n",
      "[stdout] [28/60] Hello, this is message #28\n",
      "[stdout] [29/60] Hello, this is message #29\n",
      "[stdout] [30/60] Hello, this is message #30\n",
      "[stdout] [31/60] Hello, this is message #31\n",
      "[stdout] [32/60] Hello, this is message #32\n",
      "[stdout] [33/60] Hello, this is message #33\n",
      "[stdout] [34/60] Hello, this is message #34\n",
      "[stdout] [35/60] Hello, this is message #35\n",
      "[stdout] [36/60] Hello, this is message #36\n",
      "[stdout] [37/60] Hello, this is message #37\n",
      "[stdout] [38/60] Hello, this is message #38\n",
      "[stdout] [39/60] Hello, this is message #39\n",
      "[stdout] [40/60] Hello, this is message #40\n",
      "[stdout] [41/60] Hello, this is message #41\n",
      "[stdout] [42/60] Hello, this is message #42\n",
      "[stdout] [43/60] Hello, this is message #43\n",
      "[stdout] [44/60] Hello, this is message #44\n",
      "[stdout] [45/60] Hello, this is message #45\n",
      "[stdout] [46/60] Hello, this is message #46\n",
      "[stdout] [47/60] Hello, this is message #47\n",
      "[stdout] [48/60] Hello, this is message #48\n",
      "[stdout] [49/60] Hello, this is message #49\n",
      "[stdout] [50/60] Hello, this is message #50\n",
      "[stdout] [51/60] Hello, this is message #51\n",
      "[stdout] [52/60] Hello, this is message #52\n",
      "[stdout] [53/60] Hello, this is message #53\n",
      "[stdout] [54/60] Hello, this is message #54\n",
      "[stdout] [55/60] Hello, this is message #55\n",
      "[stdout] [56/60] Hello, this is message #56\n",
      "[stdout] [57/60] Hello, this is message #57\n",
      "[stdout] [58/60] Hello, this is message #58\n",
      "[stdout] [59/60] Hello, this is message #59\n",
      "[stdout] [60/60] Hello, this is message #60\n",
      "[stdout] Done! 60 seconds are up.\n"
     ]
    }
   ],
   "source": [
    "output_queue = queue.Queue()  # 线程安全的队列\n",
    "\n",
    "def read_subprocess_output(proc: subprocess.Popen, q: queue.Queue):\n",
    "    \"\"\"在独立线程中读取子进程输出\"\"\"\n",
    "    # 读取stdout\n",
    "    for line in iter(proc.stdout.readline, ''):\n",
    "        if line:\n",
    "            q.put(('stdout', line.strip()))\n",
    "\n",
    "    # 读取stderr\n",
    "    for line in iter(proc.stderr.readline, ''):\n",
    "        if line:\n",
    "            q.put(('stderr', line.strip()))\n",
    "\n",
    "    proc.wait()\n",
    "    q.put(('done', None))  # 发送结束信号\n",
    "\n",
    "\n",
    "command = [r\"C:\\Users\\dell\\anaconda3\\envs\\sld\\python.exe\", r\"C:\\Users\\dell\\Projects\\CAutoD\\cautod_fastapi\\test_f\\continue_print.py\"]\n",
    "\n",
    "proc =  subprocess.Popen(\n",
    "    command,\n",
    "    stdout=subprocess.PIPE,\n",
    "    stderr=subprocess.PIPE,\n",
    "    text=True,          # 输出为字符串\n",
    "    bufsize=1,          # 行缓冲\n",
    "    universal_newlines=True\n",
    ")\n",
    "print(\"启动程序了吗\")\n",
    "full_answer = \"\"\n",
    "# FILE_PATH = r\"C:\\Users\\dell\\Projects\\CAutoD\\wenjian\\logdebug.txt\"\n",
    "# async with open(FILE_PATH, \"rb\") as f:\n",
    "#     full_answer = await f.read().decode(\"utf-8\")\n",
    "# 启动读取线程\n",
    "read_thread = threading.Thread(\n",
    "    target=read_subprocess_output,\n",
    "    args=(proc, output_queue),\n",
    "    daemon=True\n",
    ")\n",
    "read_thread.start()\n",
    "while True:\n",
    "    # 非阻塞检查队列（避免阻塞事件循环）\n",
    "    try:\n",
    "        # 使用0.1秒超时，既保证实时性又不阻塞事件循环\n",
    "        stream_type, line = output_queue.get(timeout=0.1)\n",
    "\n",
    "        if stream_type == 'done':\n",
    "            break  # 进程结束\n",
    "\n",
    "        if line:\n",
    "            print(f\"[{stream_type}] {line}\")\n",
    "            # 发送到前端\n",
    "            # 关键：将字符串中的 \\n 转义符替换为真正的换行控制字符\n",
    "            # chunk = line.replace(\"\\\\n\", \"\\n\")\n",
    "            # text_chunk_data = SSETextChunk(text=chunk)\n",
    "            # sse_chunk = f'event: text_chunk\\ndata: {text_chunk_data.model_dump_json()}\\n\\n'\n",
    "            # yield sse_chunk\n",
    "            # await asyncio.sleep(0.05)  # 控制发送速度\n",
    "    \n",
    "            # 积累完整回答\n",
    "            if stream_type == 'stdout':\n",
    "                full_answer += line + \"\\n\\n\"\n",
    "            else:  # stderr\n",
    "                full_answer += f\"[错误] {line}\\n\\n\"\n",
    "\n",
    "        output_queue.task_done()\n",
    "\n",
    "    except queue.Empty:\n",
    "    # 队列空时检查进程是否已意外终止\n",
    "        if proc.poll() is not None and not read_thread.is_alive():\n",
    "            break\n",
    "        continue"
   ]
  }
 ],
 "metadata": {
  "kernelspec": {
   "display_name": "d2l",
   "language": "python",
   "name": "python3"
  },
  "language_info": {
   "codemirror_mode": {
    "name": "ipython",
    "version": 3
   },
   "file_extension": ".py",
   "mimetype": "text/x-python",
   "name": "python",
   "nbconvert_exporter": "python",
   "pygments_lexer": "ipython3",
   "version": "3.9.21"
  }
 },
 "nbformat": 4,
 "nbformat_minor": 2
}
